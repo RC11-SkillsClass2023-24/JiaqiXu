{
 "cells": [
  {
   "cell_type": "code",
   "execution_count": 1,
   "id": "fac9a1d5",
   "metadata": {},
   "outputs": [
    {
     "name": "stdout",
     "output_type": "stream",
     "text": [
      "Collecting transformers\n",
      "  Obtaining dependency information for transformers from https://files.pythonhosted.org/packages/85/f6/c5065913119c41ecad148c34e3a861f719e16b89a522287213698da911fc/transformers-4.37.2-py3-none-any.whl.metadata\n",
      "  Downloading transformers-4.37.2-py3-none-any.whl.metadata (129 kB)\n",
      "     ---------------------------------------- 0.0/129.4 kB ? eta -:--:--\n",
      "     ----------- ------------------------- 41.0/129.4 kB 653.6 kB/s eta 0:00:01\n",
      "     -------------------------------------- 129.4/129.4 kB 1.3 MB/s eta 0:00:00\n",
      "Requirement already satisfied: filelock in f:\\anaconda\\envs\\py38\\lib\\site-packages (from transformers) (3.13.1)\n",
      "Collecting huggingface-hub<1.0,>=0.19.3 (from transformers)\n",
      "  Obtaining dependency information for huggingface-hub<1.0,>=0.19.3 from https://files.pythonhosted.org/packages/28/03/7d3c7153113ec59cfb31e3b8ee773f5f420a0dd7d26d40442542b96675c3/huggingface_hub-0.20.3-py3-none-any.whl.metadata\n",
      "  Downloading huggingface_hub-0.20.3-py3-none-any.whl.metadata (12 kB)\n",
      "Requirement already satisfied: numpy>=1.17 in f:\\anaconda\\envs\\py38\\lib\\site-packages (from transformers) (1.24.3)\n",
      "Requirement already satisfied: packaging>=20.0 in f:\\anaconda\\envs\\py38\\lib\\site-packages (from transformers) (23.1)\n",
      "Collecting pyyaml>=5.1 (from transformers)\n",
      "  Obtaining dependency information for pyyaml>=5.1 from https://files.pythonhosted.org/packages/29/0f/9782fa5b10152abf033aec56a601177ead85ee03b57781f2d9fced09eefc/PyYAML-6.0.1-cp38-cp38-win_amd64.whl.metadata\n",
      "  Downloading PyYAML-6.0.1-cp38-cp38-win_amd64.whl.metadata (2.1 kB)\n",
      "Requirement already satisfied: regex!=2019.12.17 in f:\\anaconda\\envs\\py38\\lib\\site-packages (from transformers) (2023.12.25)\n",
      "Requirement already satisfied: requests in f:\\anaconda\\envs\\py38\\lib\\site-packages (from transformers) (2.31.0)\n",
      "Collecting tokenizers<0.19,>=0.14 (from transformers)\n",
      "  Obtaining dependency information for tokenizers<0.19,>=0.14 from https://files.pythonhosted.org/packages/a1/12/38407f6da9656b78c3be1f42b4e2fdf824c3c0b72eae194447353d75a11e/tokenizers-0.15.1-cp38-none-win_amd64.whl.metadata\n",
      "  Downloading tokenizers-0.15.1-cp38-none-win_amd64.whl.metadata (6.8 kB)\n",
      "Collecting safetensors>=0.4.1 (from transformers)\n",
      "  Obtaining dependency information for safetensors>=0.4.1 from https://files.pythonhosted.org/packages/26/e3/544fd72b061c305573b4ddfa60f9a2ca40990e5d42d9332bf834b1635ed1/safetensors-0.4.2-cp38-none-win_amd64.whl.metadata\n",
      "  Downloading safetensors-0.4.2-cp38-none-win_amd64.whl.metadata (3.9 kB)\n",
      "Requirement already satisfied: tqdm>=4.27 in f:\\anaconda\\envs\\py38\\lib\\site-packages (from transformers) (4.66.1)\n",
      "Requirement already satisfied: fsspec>=2023.5.0 in f:\\anaconda\\envs\\py38\\lib\\site-packages (from huggingface-hub<1.0,>=0.19.3->transformers) (2023.10.0)\n",
      "Requirement already satisfied: typing-extensions>=3.7.4.3 in f:\\anaconda\\envs\\py38\\lib\\site-packages (from huggingface-hub<1.0,>=0.19.3->transformers) (4.8.0)\n",
      "Requirement already satisfied: colorama in f:\\anaconda\\envs\\py38\\lib\\site-packages (from tqdm>=4.27->transformers) (0.4.6)\n",
      "Requirement already satisfied: charset-normalizer<4,>=2 in f:\\anaconda\\envs\\py38\\lib\\site-packages (from requests->transformers) (3.3.2)\n",
      "Requirement already satisfied: idna<4,>=2.5 in f:\\anaconda\\envs\\py38\\lib\\site-packages (from requests->transformers) (3.4)\n",
      "Requirement already satisfied: urllib3<3,>=1.21.1 in f:\\anaconda\\envs\\py38\\lib\\site-packages (from requests->transformers) (2.0.6)\n",
      "Requirement already satisfied: certifi>=2017.4.17 in f:\\anaconda\\envs\\py38\\lib\\site-packages (from requests->transformers) (2023.7.22)\n",
      "Downloading transformers-4.37.2-py3-none-any.whl (8.4 MB)\n",
      "   ---------------------------------------- 0.0/8.4 MB ? eta -:--:--\n",
      "   --- ------------------------------------ 0.7/8.4 MB 23.5 MB/s eta 0:00:01\n",
      "   ---------- ----------------------------- 2.2/8.4 MB 23.5 MB/s eta 0:00:01\n",
      "   ----------------- ---------------------- 3.7/8.4 MB 23.6 MB/s eta 0:00:01\n",
      "   ---------------------- ----------------- 4.8/8.4 MB 22.1 MB/s eta 0:00:01\n",
      "   --------------------------- ------------ 5.9/8.4 MB 22.1 MB/s eta 0:00:01\n",
      "   ----------------------------------- ---- 7.5/8.4 MB 22.7 MB/s eta 0:00:01\n",
      "   ---------------------------------------  8.4/8.4 MB 22.4 MB/s eta 0:00:01\n",
      "   ---------------------------------------- 8.4/8.4 MB 21.5 MB/s eta 0:00:00\n",
      "Downloading huggingface_hub-0.20.3-py3-none-any.whl (330 kB)\n",
      "   ---------------------------------------- 0.0/330.1 kB ? eta -:--:--\n",
      "   ---------------------------------------- 330.1/330.1 kB ? eta 0:00:00\n",
      "Downloading PyYAML-6.0.1-cp38-cp38-win_amd64.whl (157 kB)\n",
      "   ---------------------------------------- 0.0/157.3 kB ? eta -:--:--\n",
      "   ---------------------------------------- 157.3/157.3 kB 9.8 MB/s eta 0:00:00\n",
      "Downloading safetensors-0.4.2-cp38-none-win_amd64.whl (268 kB)\n",
      "   ---------------------------------------- 0.0/268.7 kB ? eta -:--:--\n",
      "   --------------------------------------- 268.7/268.7 kB 16.2 MB/s eta 0:00:00\n",
      "Downloading tokenizers-0.15.1-cp38-none-win_amd64.whl (2.2 MB)\n",
      "   ---------------------------------------- 0.0/2.2 MB ? eta -:--:--\n",
      "   ------------------- -------------------- 1.1/2.2 MB 22.4 MB/s eta 0:00:01\n",
      "   -------------------------------------- - 2.1/2.2 MB 22.1 MB/s eta 0:00:01\n",
      "   ---------------------------------------- 2.2/2.2 MB 17.4 MB/s eta 0:00:00\n",
      "Installing collected packages: safetensors, pyyaml, huggingface-hub, tokenizers, transformers\n",
      "Successfully installed huggingface-hub-0.20.3 pyyaml-6.0.1 safetensors-0.4.2 tokenizers-0.15.1 transformers-4.37.2\n"
     ]
    },
    {
     "name": "stderr",
     "output_type": "stream",
     "text": [
      "WARNING: Ignoring invalid distribution - (f:\\anaconda\\envs\\py38\\lib\\site-packages)\n",
      "WARNING: Ignoring invalid distribution -illow (f:\\anaconda\\envs\\py38\\lib\\site-packages)\n",
      "WARNING: Ignoring invalid distribution - (f:\\anaconda\\envs\\py38\\lib\\site-packages)\n",
      "WARNING: Ignoring invalid distribution -illow (f:\\anaconda\\envs\\py38\\lib\\site-packages)\n"
     ]
    },
    {
     "name": "stdout",
     "output_type": "stream",
     "text": [
      "Collecting accelerate\n",
      "  Obtaining dependency information for accelerate from https://files.pythonhosted.org/packages/a6/b9/44623bdb05595481107153182e7f4b9f2ef9d3b674938ad13842054dcbd8/accelerate-0.26.1-py3-none-any.whl.metadata\n",
      "  Downloading accelerate-0.26.1-py3-none-any.whl.metadata (18 kB)\n",
      "Requirement already satisfied: numpy>=1.17 in f:\\anaconda\\envs\\py38\\lib\\site-packages (from accelerate) (1.24.3)\n",
      "Requirement already satisfied: packaging>=20.0 in f:\\anaconda\\envs\\py38\\lib\\site-packages (from accelerate) (23.1)\n",
      "Requirement already satisfied: psutil in f:\\anaconda\\envs\\py38\\lib\\site-packages (from accelerate) (5.9.0)\n",
      "Requirement already satisfied: pyyaml in f:\\anaconda\\envs\\py38\\lib\\site-packages (from accelerate) (6.0.1)\n",
      "Requirement already satisfied: torch>=1.10.0 in f:\\anaconda\\envs\\py38\\lib\\site-packages (from accelerate) (2.1.0)\n",
      "Requirement already satisfied: huggingface-hub in f:\\anaconda\\envs\\py38\\lib\\site-packages (from accelerate) (0.20.3)\n",
      "Requirement already satisfied: safetensors>=0.3.1 in f:\\anaconda\\envs\\py38\\lib\\site-packages (from accelerate) (0.4.2)\n",
      "Requirement already satisfied: filelock in f:\\anaconda\\envs\\py38\\lib\\site-packages (from torch>=1.10.0->accelerate) (3.13.1)\n",
      "Requirement already satisfied: typing-extensions in f:\\anaconda\\envs\\py38\\lib\\site-packages (from torch>=1.10.0->accelerate) (4.8.0)\n",
      "Requirement already satisfied: sympy in f:\\anaconda\\envs\\py38\\lib\\site-packages (from torch>=1.10.0->accelerate) (1.12)\n",
      "Requirement already satisfied: networkx in f:\\anaconda\\envs\\py38\\lib\\site-packages (from torch>=1.10.0->accelerate) (3.1)\n",
      "Requirement already satisfied: jinja2 in f:\\anaconda\\envs\\py38\\lib\\site-packages (from torch>=1.10.0->accelerate) (3.1.2)\n",
      "Requirement already satisfied: fsspec in f:\\anaconda\\envs\\py38\\lib\\site-packages (from torch>=1.10.0->accelerate) (2023.10.0)\n",
      "Requirement already satisfied: requests in f:\\anaconda\\envs\\py38\\lib\\site-packages (from huggingface-hub->accelerate) (2.31.0)\n",
      "Requirement already satisfied: tqdm>=4.42.1 in f:\\anaconda\\envs\\py38\\lib\\site-packages (from huggingface-hub->accelerate) (4.66.1)\n",
      "Requirement already satisfied: colorama in f:\\anaconda\\envs\\py38\\lib\\site-packages (from tqdm>=4.42.1->huggingface-hub->accelerate) (0.4.6)\n",
      "Requirement already satisfied: MarkupSafe>=2.0 in f:\\anaconda\\envs\\py38\\lib\\site-packages (from jinja2->torch>=1.10.0->accelerate) (2.1.1)\n",
      "Requirement already satisfied: charset-normalizer<4,>=2 in f:\\anaconda\\envs\\py38\\lib\\site-packages (from requests->huggingface-hub->accelerate) (3.3.2)\n",
      "Requirement already satisfied: idna<4,>=2.5 in f:\\anaconda\\envs\\py38\\lib\\site-packages (from requests->huggingface-hub->accelerate) (3.4)\n",
      "Requirement already satisfied: urllib3<3,>=1.21.1 in f:\\anaconda\\envs\\py38\\lib\\site-packages (from requests->huggingface-hub->accelerate) (2.0.6)\n",
      "Requirement already satisfied: certifi>=2017.4.17 in f:\\anaconda\\envs\\py38\\lib\\site-packages (from requests->huggingface-hub->accelerate) (2023.7.22)\n",
      "Requirement already satisfied: mpmath>=0.19 in f:\\anaconda\\envs\\py38\\lib\\site-packages (from sympy->torch>=1.10.0->accelerate) (1.3.0)\n",
      "Downloading accelerate-0.26.1-py3-none-any.whl (270 kB)\n",
      "   ---------------------------------------- 0.0/270.9 kB ? eta -:--:--\n",
      "   ---------------------- ----------------- 153.6/270.9 kB 3.1 MB/s eta 0:00:01\n",
      "   ---------------------------------------- 270.9/270.9 kB 4.1 MB/s eta 0:00:00\n",
      "Installing collected packages: accelerate\n",
      "Successfully installed accelerate-0.26.1\n"
     ]
    },
    {
     "name": "stderr",
     "output_type": "stream",
     "text": [
      "WARNING: Ignoring invalid distribution - (f:\\anaconda\\envs\\py38\\lib\\site-packages)\n",
      "WARNING: Ignoring invalid distribution -illow (f:\\anaconda\\envs\\py38\\lib\\site-packages)\n",
      "WARNING: Ignoring invalid distribution - (f:\\anaconda\\envs\\py38\\lib\\site-packages)\n",
      "WARNING: Ignoring invalid distribution -illow (f:\\anaconda\\envs\\py38\\lib\\site-packages)\n"
     ]
    }
   ],
   "source": [
    "!pip install transformers\n",
    "!pip install accelerate"
   ]
  },
  {
   "cell_type": "code",
   "execution_count": 14,
   "id": "5c12bd11",
   "metadata": {},
   "outputs": [
    {
     "name": "stdout",
     "output_type": "stream",
     "text": [
      "False\n"
     ]
    }
   ],
   "source": [
    "import torch\n",
    "print(torch.cuda.is_available())"
   ]
  },
  {
   "cell_type": "code",
   "execution_count": 1,
   "id": "a55de79f",
   "metadata": {},
   "outputs": [
    {
     "ename": "NameError",
     "evalue": "name 'FuyuForCausalLM' is not defined",
     "output_type": "error",
     "traceback": [
      "\u001b[1;31m---------------------------------------------------------------------------\u001b[0m",
      "\u001b[1;31mNameError\u001b[0m                                 Traceback (most recent call last)",
      "Cell \u001b[1;32mIn[1], line 1\u001b[0m\n\u001b[1;32m----> 1\u001b[0m model \u001b[38;5;241m=\u001b[39m \u001b[43mFuyuForCausalLM\u001b[49m\u001b[38;5;241m.\u001b[39mfrom_pretrained(model_id)\n",
      "\u001b[1;31mNameError\u001b[0m: name 'FuyuForCausalLM' is not defined"
     ]
    }
   ],
   "source": [
    "model = FuyuForCausalLM.from_pretrained(model_id)"
   ]
  },
  {
   "cell_type": "code",
   "execution_count": null,
   "id": "16cfff03",
   "metadata": {},
   "outputs": [],
   "source": [
    "from PIL import Image"
   ]
  },
  {
   "cell_type": "code",
   "execution_count": null,
   "id": "326dc7a9",
   "metadata": {},
   "outputs": [],
   "source": [
    "from transformers import FuyuProcessor, FuyuForCausalLM\n",
    "from PIL import Image\n",
    "import requests\n",
    "\n",
    "# load model and processor\n",
    "model_id = \"adept/fuyu-8b\"\n",
    "processor = FuyuProcessor.from_pretrained(model_id)\n",
    "model = FuyuForCausalLM.from_pretrained(model_id, device_map=\"cuda:0\")\n",
    "\n",
    "# prepare inputs for the model\n",
    "text_prompt = \"Generate a coco-style caption.\\n\"\n",
    "url = \"https://huggingface.co/adept/fuyu-8b/resolve/main/bus.png\"\n",
    "image = Image.open(requests.get(url, stream=True).raw)\n",
    "\n",
    "inputs = processor(text=text_prompt, images=image, return_tensors=\"pt\").to(\"cuda:0\")\n",
    "\n",
    "# autoregressively generate text\n",
    "generation_output = model.generate(**inputs, max_new_tokens=7)\n",
    "generation_text = processor.batch_decode(generation_output[:, -7:], skip_special_tokens=True)\n",
    "assert generation_text == ['A palace with collars.']"
   ]
  },
  {
   "cell_type": "code",
   "execution_count": 2,
   "id": "4c23062b",
   "metadata": {},
   "outputs": [],
   "source": [
    "prompt = \"Generate a coco-style caption.\\n\""
   ]
  },
  {
   "cell_type": "code",
   "execution_count": 3,
   "id": "aefd5d03",
   "metadata": {},
   "outputs": [
    {
     "ename": "NameError",
     "evalue": "name 'Image' is not defined",
     "output_type": "error",
     "traceback": [
      "\u001b[1;31m---------------------------------------------------------------------------\u001b[0m",
      "\u001b[1;31mNameError\u001b[0m                                 Traceback (most recent call last)",
      "Cell \u001b[1;32mIn[3], line 1\u001b[0m\n\u001b[1;32m----> 1\u001b[0m image \u001b[38;5;241m=\u001b[39m \u001b[43mImage\u001b[49m\u001b[38;5;241m.\u001b[39mopen(\u001b[38;5;124m'\u001b[39m\u001b[38;5;124mC:\u001b[39m\u001b[38;5;130;01m\\\\\u001b[39;00m\u001b[38;5;124mUsers\u001b[39m\u001b[38;5;130;01m\\\\\u001b[39;00m\u001b[38;5;124muser\u001b[39m\u001b[38;5;130;01m\\\\\u001b[39;00m\u001b[38;5;124mDesktop\u001b[39m\u001b[38;5;130;01m\\\\\u001b[39;00m\u001b[38;5;124mX\u001b[39m\u001b[38;5;130;01m\\\\\u001b[39;00m\u001b[38;5;124mOneDrive_2_2024-1-20\u001b[39m\u001b[38;5;130;01m\\\\\u001b[39;00m\u001b[38;5;124mCity_in_Reverie_Print_Images\u001b[39m\u001b[38;5;130;01m\\\\\u001b[39;00m\u001b[38;5;124mpage_126_image_0.png\u001b[39m\u001b[38;5;124m'\u001b[39m)\n",
      "\u001b[1;31mNameError\u001b[0m: name 'Image' is not defined"
     ]
    }
   ],
   "source": [
    "image = Image.open('C:\\\\Users\\\\user\\\\Desktop\\\\X\\\\OneDrive_2_2024-1-20\\\\City_in_Reverie_Print_Images\\\\page_126_image_0.png')"
   ]
  },
  {
   "cell_type": "code",
   "execution_count": 4,
   "id": "f546648d",
   "metadata": {},
   "outputs": [
    {
     "name": "stderr",
     "output_type": "stream",
     "text": [
      "F:\\Anaconda\\envs\\py38\\lib\\site-packages\\tqdm\\auto.py:21: TqdmWarning: IProgress not found. Please update jupyter and ipywidgets. See https://ipywidgets.readthedocs.io/en/stable/user_install.html\n",
      "  from .autonotebook import tqdm as notebook_tqdm\n"
     ]
    },
    {
     "ename": "ImportError",
     "evalue": "cannot import name 'BertForConditionalGeneration' from 'transformers' (F:\\Anaconda\\envs\\py38\\lib\\site-packages\\transformers\\__init__.py)",
     "output_type": "error",
     "traceback": [
      "\u001b[1;31m---------------------------------------------------------------------------\u001b[0m",
      "\u001b[1;31mImportError\u001b[0m                               Traceback (most recent call last)",
      "Cell \u001b[1;32mIn[4], line 1\u001b[0m\n\u001b[1;32m----> 1\u001b[0m \u001b[38;5;28;01mfrom\u001b[39;00m \u001b[38;5;21;01mtransformers\u001b[39;00m \u001b[38;5;28;01mimport\u001b[39;00m BertTokenizer, BertForConditionalGeneration\n\u001b[0;32m      3\u001b[0m tokenizer \u001b[38;5;241m=\u001b[39m BertTokenizer\u001b[38;5;241m.\u001b[39mfrom_pretrained(\u001b[38;5;124m'\u001b[39m\u001b[38;5;124mbert-base-uncased\u001b[39m\u001b[38;5;124m'\u001b[39m)\n\u001b[0;32m      4\u001b[0m model \u001b[38;5;241m=\u001b[39m BertForConditionalGeneration\u001b[38;5;241m.\u001b[39mfrom_pretrained(\u001b[38;5;124m'\u001b[39m\u001b[38;5;124mbert-base-uncased\u001b[39m\u001b[38;5;124m'\u001b[39m)\n",
      "\u001b[1;31mImportError\u001b[0m: cannot import name 'BertForConditionalGeneration' from 'transformers' (F:\\Anaconda\\envs\\py38\\lib\\site-packages\\transformers\\__init__.py)"
     ]
    }
   ],
   "source": [
    "from transformers import BertTokenizer, BertForConditionalGeneration\n",
    "\n",
    "tokenizer = BertTokenizer.from_pretrained('bert-base-uncased')\n",
    "model = BertForConditionalGeneration.from_pretrained('bert-base-uncased')\n",
    "\n",
    "inputs = tokenizer(prompt, return_tensors=\"pt\")\n",
    "generation_output = model.generate(**inputs, max_length=50)\n",
    "generation_text = tokenizer.decode(generation_output[0], skip_special_tokens=True)"
   ]
  },
  {
   "cell_type": "code",
   "execution_count": null,
   "id": "a5205b03",
   "metadata": {},
   "outputs": [],
   "source": [
    "inputs = processor(text=prompt, images=image, return_tensors=\"pt\").to('mps')\n",
    "\n",
    "generation_output = model.generate(**inputs, max_new_tokens=7)\n",
    "generation_text = processor.batch_decode(generation_output[:, -7:], skip_special_tokens=True)"
   ]
  },
  {
   "cell_type": "code",
   "execution_count": null,
   "id": "1c485c68",
   "metadata": {},
   "outputs": [],
   "source": [
    "generation_text"
   ]
  },
  {
   "cell_type": "code",
   "execution_count": null,
   "id": "9e260ac1",
   "metadata": {},
   "outputs": [],
   "source": []
  }
 ],
 "metadata": {
  "kernelspec": {
   "display_name": "Python 3 (ipykernel)",
   "language": "python",
   "name": "python3"
  },
  "language_info": {
   "codemirror_mode": {
    "name": "ipython",
    "version": 3
   },
   "file_extension": ".py",
   "mimetype": "text/x-python",
   "name": "python",
   "nbconvert_exporter": "python",
   "pygments_lexer": "ipython3",
   "version": "3.8.18"
  }
 },
 "nbformat": 4,
 "nbformat_minor": 5
}
