{
 "cells": [
  {
   "cell_type": "code",
   "execution_count": null,
   "id": "25d610c5",
   "metadata": {},
   "outputs": [],
   "source": [
    "0: r -> 1\n",
    "1: 0 -> 2, 1 -> 1, _ -> halt\n",
    "2: 0 -> 2, 1 -> 2, _ -> 3\n",
    "3: 0 -> 4, 1 -> 3, _ -> 3\n",
    "4: _ -> 5\n",
    "5: 0 -> 5, 1 -> 5, _ -> halt"
   ]
  },
  {
   "cell_type": "code",
   "execution_count": null,
   "id": "1ec865f4",
   "metadata": {},
   "outputs": [],
   "source": [
    "0: r -> 1\n",
    "1: 0 -> 2, 1 -> 1, _ -> halt\n",
    "2: 0 -> 3, 1 -> 2, _ -> 3\n",
    "3: 0 -> 4, 1 -> 3, _ -> 3\n",
    "4: r -> 5\n",
    "5: 0 -> 5, 1 -> 6, _ -> halt\n",
    "6: 0 -> 6, 1 -> 6, _ -> 1"
   ]
  },
  {
   "cell_type": "code",
   "execution_count": null,
   "id": "3ef50929",
   "metadata": {},
   "outputs": [],
   "source": [
    "0: r -> 1\n",
    "1: 0 -> 2, 1 -> 1, _ -> halt\n",
    "2: 0 -> 3, 1 -> 2, _ -> 3\n",
    "3: 0 -> 4, 1 -> 3, _ -> 3\n",
    "4: r -> 5\n",
    "5: 0 -> 5, 1 -> 6, _ -> halt\n",
    "6: 0 -> 6, 1 -> 7, _ -> halt\n",
    "7: 0 -> 7, 1 -> 7, _ -> 8\n",
    "8: 0 -> 9, 1 -> 8, _ -> 8\n",
    "9: 0 -> 9, 1 -> 9, _ -> 1"
   ]
  }
 ],
 "metadata": {
  "kernelspec": {
   "display_name": "Python 3 (ipykernel)",
   "language": "python",
   "name": "python3"
  },
  "language_info": {
   "codemirror_mode": {
    "name": "ipython",
    "version": 3
   },
   "file_extension": ".py",
   "mimetype": "text/x-python",
   "name": "python",
   "nbconvert_exporter": "python",
   "pygments_lexer": "ipython3",
   "version": "3.8.18"
  }
 },
 "nbformat": 4,
 "nbformat_minor": 5
}
