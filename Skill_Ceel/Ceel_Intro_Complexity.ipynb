{
 "cells": [
  {
   "cell_type": "markdown",
   "id": "ec3fb883",
   "metadata": {},
   "source": [
    "![picture02](https://64.media.tumblr.com/a5e91031878171c6e3fa9dfd01d1ee11/6879524cb9efea45-34/s2048x3072/ddfd674206504fd32b518332b493e3cffff4aaa9.jpg)\n"
   ]
  },
  {
   "cell_type": "markdown",
   "id": "46a30c3b",
   "metadata": {},
   "source": [
    "![picture01](https://64.media.tumblr.com/94d58e9effbb85c3bf248430abf79259/6879524cb9efea45-bd/s2048x3072/5cd64e329b11c5e7232fcf3095e562f5068104d5.jpg)"
   ]
  },
  {
   "cell_type": "markdown",
   "id": "48f0a8e4",
   "metadata": {},
   "source": [
    "![picture03](https://64.media.tumblr.com/807392c26e4f8666d2d359fc902f00b6/6879524cb9efea45-3a/s2048x3072/309d6be503fec8a46bc8809b724ccc814f29ecec.jpg)\n"
   ]
  },
  {
   "cell_type": "markdown",
   "id": "ff484f06",
   "metadata": {},
   "source": [
    "# 4"
   ]
  },
  {
   "cell_type": "code",
   "execution_count": 3,
   "id": "441df34e",
   "metadata": {},
   "outputs": [],
   "source": [
    "def harmonic_number(n):\n",
    "    result = 0\n",
    "    for k in range(1, n+1):\n",
    "        result += 1/k\n",
    "    return result"
   ]
  },
  {
   "cell_type": "markdown",
   "id": "509cf6be",
   "metadata": {},
   "source": [
    "# 5"
   ]
  },
  {
   "cell_type": "code",
   "execution_count": 4,
   "id": "9d1cde70",
   "metadata": {},
   "outputs": [],
   "source": [
    "def factorial (n):\n",
    "    if n == 0:\n",
    "        return 1\n",
    "    else:\n",
    "        return n*factorial(n-1)"
   ]
  },
  {
   "cell_type": "markdown",
   "id": "df384d95",
   "metadata": {},
   "source": [
    "![picture04](https://64.media.tumblr.com/77caf726e3d2d0bf52efd0a213d27e37/86ecbcbe29ed039f-1c/s2048x3072/e3a5c5064a9cc73f9bc2b6f89dfc55255c6bede9.jpg)\n"
   ]
  },
  {
   "cell_type": "markdown",
   "id": "80c9e736",
   "metadata": {},
   "source": [
    "![picture05](https://64.media.tumblr.com/edc3a82cb493cdc234ab7bb088730da4/86ecbcbe29ed039f-1e/s2048x3072/5d56127db4f89836b084a74df331f3782b58c890.jpg)\n"
   ]
  },
  {
   "cell_type": "code",
   "execution_count": null,
   "id": "fdc4cdc1",
   "metadata": {},
   "outputs": [],
   "source": []
  }
 ],
 "metadata": {
  "kernelspec": {
   "display_name": "Python 3 (ipykernel)",
   "language": "python",
   "name": "python3"
  },
  "language_info": {
   "codemirror_mode": {
    "name": "ipython",
    "version": 3
   },
   "file_extension": ".py",
   "mimetype": "text/x-python",
   "name": "python",
   "nbconvert_exporter": "python",
   "pygments_lexer": "ipython3",
   "version": "3.8.18"
  }
 },
 "nbformat": 4,
 "nbformat_minor": 5
}
